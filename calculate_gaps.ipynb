{
 "cells": [
  {
   "cell_type": "code",
   "execution_count": 47,
   "id": "58dfbed4",
   "metadata": {},
   "outputs": [
    {
     "name": "stdout",
     "output_type": "stream",
     "text": [
      "[*********************100%***********************]  1 of 1 completed\n",
      "{'Weekly_Gap_Up_Count': 207, 'Weekly_Gap_Down_Count': 103, 'Gap_Fill_Up_Count': 24, 'Gap_Fill_Down_Count': 45}\n"
     ]
    }
   ],
   "source": [
    "import yfinance as yf\n",
    "import pandas as pd\n",
    "from typing import Dict\n",
    "\n",
    "def calculate_gaps(ticker: str, start_date: str, end_date: str) -> Dict[str, int]:\n",
    "    \"\"\"\n",
    "    Calculate gap-related statistics for a specified stock ticker within a given date range.\n",
    "\n",
    "    Parameters:\n",
    "    - ticker (str): The stock ticker symbol to fetch data for.\n",
    "    - start_date (str): The start date for the analysis in \"YYYY-MM-DD\" format.\n",
    "    - end_date (str): The end date for the analysis in \"YYYY-MM-DD\" format.\n",
    "\n",
    "    Returns:\n",
    "    A dictionary containing the following gap-related counts:\n",
    "    - \"Weekly_Gap_Up_Count\" (int): The count of weekly gap up occurrences.\n",
    "    - \"Weekly_Gap_Down_Count\" (int): The count of weekly gap down occurrences.\n",
    "    - \"Gap_Fill_Up_Count\" (int): The count of gap fill up occurrences.\n",
    "    - \"Gap_Fill_Down_Count\" (int): The count of gap fill down occurrences.\n",
    "    \"\"\"\n",
    "        \n",
    "    data = yf.download(ticker, start=start_date, end=end_date, interval=\"1wk\")\n",
    "\n",
    "    data[\"Week_Gap_Up\"] = (data[\"Open\"] - data[\"Close\"].shift(1)) > 0\n",
    "    data[\"Week_Gap_Down\"] = (data[\"Open\"] - data[\"Close\"].shift(1)) < 0\n",
    "\n",
    "    data[\"Gap_Fill_Up\"] = (data[\"Low\"].shift(1) - data[\"Open\"]) > 0\n",
    "    data[\"Gap_Fill_Down\"] = (data[\"High\"].shift(1) - data[\"Open\"]) < 0\n",
    "\n",
    "    data.reset_index(inplace=True)\n",
    "\n",
    "    gap_up_count: int = data[\"Week_Gap_Up\"].sum()\n",
    "    gap_down_count: int = data[\"Week_Gap_Down\"].sum()\n",
    "    gap_fill_up_count: int = data[\"Gap_Fill_Up\"].sum()\n",
    "    gap_fill_down_count: int = data[\"Gap_Fill_Down\"].sum()\n",
    "\n",
    "    return {\n",
    "        \"Weekly_Gap_Up_Count\": gap_up_count,\n",
    "        \"Weekly_Gap_Down_Count\": gap_down_count,\n",
    "        \"Gap_Fill_Up_Count\": gap_fill_up_count,\n",
    "        \"Gap_Fill_Down_Count\": gap_fill_down_count\n",
    "    }\n",
    "    \n",
    "ticker_symbol = \"^NSEBANK\"\n",
    "start_date = \"2017-01-01\"\n",
    "end_date = \"2023-01-01\"\n",
    "result = calculate_gaps(ticker_symbol, start_date, end_date)\n",
    "\n",
    "print(result)\n"
   ]
  }
 ],
 "metadata": {
  "kernelspec": {
   "display_name": "Python 3 (ipykernel)",
   "language": "python",
   "name": "python3"
  },
  "language_info": {
   "codemirror_mode": {
    "name": "ipython",
    "version": 3
   },
   "file_extension": ".py",
   "mimetype": "text/x-python",
   "name": "python",
   "nbconvert_exporter": "python",
   "pygments_lexer": "ipython3",
   "version": "3.10.10"
  }
 },
 "nbformat": 4,
 "nbformat_minor": 5
}
